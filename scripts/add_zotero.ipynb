{
 "cells": [
  {
   "cell_type": "code",
   "execution_count": 17,
   "id": "54afe078",
   "metadata": {},
   "outputs": [],
   "source": [
    "import pandas as pd\n",
    "from pyzotero.zotero import Zotero\n",
    "from dotenv import load_dotenv\n",
    "import os\n",
    "\n",
    "# Load environment variables from .env file\n",
    "load_dotenv()\n",
    "\n",
    "ZOTERO_ID = os.getenv(\"ZOTERO_ID\")\n",
    "VAULT_PATH = os.getenv(\"VAULT_PATH\")\n",
    "REFERENCES = os.getenv(\"REFERENCES\")\n",
    "REFERENCES = \"3. Literature\"\n",
    "\n",
    "zot = Zotero(ZOTERO_ID, \"user\", \"Meine Biblliothek\", local=True)"
   ]
  },
  {
   "cell_type": "code",
   "execution_count": 3,
   "id": "92b4f341",
   "metadata": {},
   "outputs": [],
   "source": [
    "items = zot.everything(zot.items())"
   ]
  },
  {
   "cell_type": "code",
   "execution_count": 45,
   "id": "dd67ec8a",
   "metadata": {},
   "outputs": [],
   "source": [
    "reference_dictionary = {}\n",
    "for item in items:\n",
    "    if item['data']['itemType'] != 'attachment|note':\n",
    "        try:\n",
    "            # Attempt to access the 'title' field in the 'data' dictionary\n",
    "            title = item['data']['title']\n",
    "            key = item['key']\n",
    "            # everything between \"Citation Key: \" and the next newline\n",
    "            if \"extra\" in item[\"data\"]:\n",
    "                # Extract the citation key from the 'extra' field\n",
    "                if \"Citation Key: \" in item[\"data\"][\"extra\"]:\n",
    "                    citekey = f\"@{item['data']['extra'].split('Citation Key: ')[1].split('\\\\n')[0]}\"\n",
    "            paper_dict = {\n",
    "                \"title\": title,\n",
    "                \"key\": key,\n",
    "                \"citekey\": citekey\n",
    "            }\n",
    "            reference_dictionary[key] = paper_dict\n",
    "        except KeyError:\n",
    "            pass"
   ]
  },
  {
   "cell_type": "code",
   "execution_count": 46,
   "id": "586b054f",
   "metadata": {},
   "outputs": [
    {
     "data": {
      "text/plain": [
       "{'key': 'EUZZYZFS',\n",
       " 'version': 32991,\n",
       " 'library': {'type': 'user',\n",
       "  'id': 6845452,\n",
       "  'name': 'Meine Bibliothek',\n",
       "  'links': {'self': {'href': 'http://localhost:23119/api/users/6845452',\n",
       "    'type': 'application/json'},\n",
       "   'alternate': {'href': 'https://www.zotero.org/users/6845452',\n",
       "    'type': 'text/html'}}},\n",
       " 'links': {'self': {'href': 'http://localhost:23119/api/users/6845452/items/EUZZYZFS',\n",
       "   'type': 'application/json'},\n",
       "  'alternate': {'href': 'https://www.zotero.org/users/6845452/items/EUZZYZFS',\n",
       "   'type': 'text/html'},\n",
       "  'up': {'href': 'http://localhost:23119/api/users/6845452/items/RWSZMPXZ',\n",
       "   'type': 'application/json'},\n",
       "  'enclosure': {'href': 'file:///C:/Users/Admin/Zotero/storage/EUZZYZFS/Cheng%20et%20al.%20-%202025%20-%20Green%20innovation%20and%20firms%E2%80%99%20financial%20and%20environmental%20performance%20the%20roles%20of%20pollution%20preventi.pdf',\n",
       "   'type': 'application/pdf',\n",
       "   'title': 'Cheng et al. - 2025 - Green innovation and firms’ financial and environmental performance the roles of pollution preventi.pdf',\n",
       "   'length': 937461}},\n",
       " 'meta': {'numChildren': 0},\n",
       " 'data': {'key': 'EUZZYZFS',\n",
       "  'version': 32991,\n",
       "  'itemType': 'attachment',\n",
       "  'title': 'Full Text PDF',\n",
       "  'url': 'https://research.monash.edu/files/685286019/604444272-oa.pdf',\n",
       "  'accessDate': '2025-05-26T08:13:07Z',\n",
       "  'parentItem': 'RWSZMPXZ',\n",
       "  'linkMode': 'imported_url',\n",
       "  'contentType': 'application/pdf',\n",
       "  'charset': '',\n",
       "  'filename': 'Cheng et al. - 2025 - Green innovation and firms’ financial and environmental performance the roles of pollution preventi.pdf',\n",
       "  'mtime': 1748247187316,\n",
       "  'md5': '9268eb7021bae45eead4cffce9d8c91b',\n",
       "  'tags': [],\n",
       "  'relations': {},\n",
       "  'dateAdded': '2025-05-26T08:13:07Z',\n",
       "  'dateModified': '2025-05-26T08:13:07Z'}}"
      ]
     },
     "execution_count": 46,
     "metadata": {},
     "output_type": "execute_result"
    }
   ],
   "source": [
    "items[1]"
   ]
  },
  {
   "cell_type": "code",
   "execution_count": 47,
   "id": "9b7af7a1",
   "metadata": {},
   "outputs": [
    {
     "data": {
      "text/plain": [
       "{'attachment',\n",
       " 'blogPost',\n",
       " 'book',\n",
       " 'bookSection',\n",
       " 'computerProgram',\n",
       " 'conferencePaper',\n",
       " 'dataset',\n",
       " 'document',\n",
       " 'journalArticle',\n",
       " 'magazineArticle',\n",
       " 'manuscript',\n",
       " 'newspaperArticle',\n",
       " 'note',\n",
       " 'patent',\n",
       " 'preprint',\n",
       " 'presentation',\n",
       " 'report',\n",
       " 'thesis',\n",
       " 'webpage'}"
      ]
     },
     "execution_count": 47,
     "metadata": {},
     "output_type": "execute_result"
    }
   ],
   "source": [
    "itemTypes"
   ]
  },
  {
   "cell_type": "code",
   "execution_count": 49,
   "id": "7e899b8b",
   "metadata": {},
   "outputs": [
    {
     "data": {
      "text/html": [
       "<div>\n",
       "<style scoped>\n",
       "    .dataframe tbody tr th:only-of-type {\n",
       "        vertical-align: middle;\n",
       "    }\n",
       "\n",
       "    .dataframe tbody tr th {\n",
       "        vertical-align: top;\n",
       "    }\n",
       "\n",
       "    .dataframe thead th {\n",
       "        text-align: right;\n",
       "    }\n",
       "</style>\n",
       "<table border=\"1\" class=\"dataframe\">\n",
       "  <thead>\n",
       "    <tr style=\"text-align: right;\">\n",
       "      <th></th>\n",
       "      <th>title</th>\n",
       "      <th>key</th>\n",
       "      <th>citekey</th>\n",
       "      <th>zotero_link</th>\n",
       "    </tr>\n",
       "  </thead>\n",
       "  <tbody>\n",
       "    <tr>\n",
       "      <th>RWSZMPXZ</th>\n",
       "      <td>Green innovation and firms’ financial and envi...</td>\n",
       "      <td>RWSZMPXZ</td>\n",
       "      <td>@chengGreenInnovationFirms2025</td>\n",
       "      <td>zotero://select/library/items/RWSZMPXZ</td>\n",
       "    </tr>\n",
       "    <tr>\n",
       "      <th>EUZZYZFS</th>\n",
       "      <td>Full Text PDF</td>\n",
       "      <td>EUZZYZFS</td>\n",
       "      <td>@chengGreenInnovationFirms2025</td>\n",
       "      <td>zotero://select/library/items/EUZZYZFS</td>\n",
       "    </tr>\n",
       "    <tr>\n",
       "      <th>GJWBV6ZV</th>\n",
       "      <td>ScienceDirect Snapshot</td>\n",
       "      <td>GJWBV6ZV</td>\n",
       "      <td>@chengGreenInnovationFirms2025</td>\n",
       "      <td>zotero://select/library/items/GJWBV6ZV</td>\n",
       "    </tr>\n",
       "    <tr>\n",
       "      <th>F5YBAX47</th>\n",
       "      <td>The impact of green bond issuance on corporate...</td>\n",
       "      <td>F5YBAX47</td>\n",
       "      <td>@liImpactGreenBond2025</td>\n",
       "      <td>zotero://select/library/items/F5YBAX47</td>\n",
       "    </tr>\n",
       "    <tr>\n",
       "      <th>BE62I7EJ</th>\n",
       "      <td>PDF</td>\n",
       "      <td>BE62I7EJ</td>\n",
       "      <td>@liImpactGreenBond2025</td>\n",
       "      <td>zotero://select/library/items/BE62I7EJ</td>\n",
       "    </tr>\n",
       "    <tr>\n",
       "      <th>...</th>\n",
       "      <td>...</td>\n",
       "      <td>...</td>\n",
       "      <td>...</td>\n",
       "      <td>...</td>\n",
       "    </tr>\n",
       "    <tr>\n",
       "      <th>VNIFGX4C</th>\n",
       "      <td>NIPS Snapshot</td>\n",
       "      <td>VNIFGX4C</td>\n",
       "      <td>@abadComprehensiveReviewValue2014</td>\n",
       "      <td>zotero://select/library/items/VNIFGX4C</td>\n",
       "    </tr>\n",
       "    <tr>\n",
       "      <th>9SXXLJT9</th>\n",
       "      <td>arXiv.org Snapshot</td>\n",
       "      <td>9SXXLJT9</td>\n",
       "      <td>@abadComprehensiveReviewValue2014</td>\n",
       "      <td>zotero://select/library/items/9SXXLJT9</td>\n",
       "    </tr>\n",
       "    <tr>\n",
       "      <th>YY8SFYV6</th>\n",
       "      <td>Snapshot</td>\n",
       "      <td>YY8SFYV6</td>\n",
       "      <td>@abadComprehensiveReviewValue2014</td>\n",
       "      <td>zotero://select/library/items/YY8SFYV6</td>\n",
       "    </tr>\n",
       "    <tr>\n",
       "      <th>GEJFKW4T</th>\n",
       "      <td>arXiv.org Snapshot</td>\n",
       "      <td>GEJFKW4T</td>\n",
       "      <td>@abadComprehensiveReviewValue2014</td>\n",
       "      <td>zotero://select/library/items/GEJFKW4T</td>\n",
       "    </tr>\n",
       "    <tr>\n",
       "      <th>LRZQG68T</th>\n",
       "      <td>arXiv.org Snapshot</td>\n",
       "      <td>LRZQG68T</td>\n",
       "      <td>@abadComprehensiveReviewValue2014</td>\n",
       "      <td>zotero://select/library/items/LRZQG68T</td>\n",
       "    </tr>\n",
       "  </tbody>\n",
       "</table>\n",
       "<p>4943 rows × 4 columns</p>\n",
       "</div>"
      ],
      "text/plain": [
       "                                                      title       key  \\\n",
       "RWSZMPXZ  Green innovation and firms’ financial and envi...  RWSZMPXZ   \n",
       "EUZZYZFS                                      Full Text PDF  EUZZYZFS   \n",
       "GJWBV6ZV                             ScienceDirect Snapshot  GJWBV6ZV   \n",
       "F5YBAX47  The impact of green bond issuance on corporate...  F5YBAX47   \n",
       "BE62I7EJ                                                PDF  BE62I7EJ   \n",
       "...                                                     ...       ...   \n",
       "VNIFGX4C                                      NIPS Snapshot  VNIFGX4C   \n",
       "9SXXLJT9                                 arXiv.org Snapshot  9SXXLJT9   \n",
       "YY8SFYV6                                           Snapshot  YY8SFYV6   \n",
       "GEJFKW4T                                 arXiv.org Snapshot  GEJFKW4T   \n",
       "LRZQG68T                                 arXiv.org Snapshot  LRZQG68T   \n",
       "\n",
       "                                    citekey  \\\n",
       "RWSZMPXZ     @chengGreenInnovationFirms2025   \n",
       "EUZZYZFS     @chengGreenInnovationFirms2025   \n",
       "GJWBV6ZV     @chengGreenInnovationFirms2025   \n",
       "F5YBAX47             @liImpactGreenBond2025   \n",
       "BE62I7EJ             @liImpactGreenBond2025   \n",
       "...                                     ...   \n",
       "VNIFGX4C  @abadComprehensiveReviewValue2014   \n",
       "9SXXLJT9  @abadComprehensiveReviewValue2014   \n",
       "YY8SFYV6  @abadComprehensiveReviewValue2014   \n",
       "GEJFKW4T  @abadComprehensiveReviewValue2014   \n",
       "LRZQG68T  @abadComprehensiveReviewValue2014   \n",
       "\n",
       "                                     zotero_link  \n",
       "RWSZMPXZ  zotero://select/library/items/RWSZMPXZ  \n",
       "EUZZYZFS  zotero://select/library/items/EUZZYZFS  \n",
       "GJWBV6ZV  zotero://select/library/items/GJWBV6ZV  \n",
       "F5YBAX47  zotero://select/library/items/F5YBAX47  \n",
       "BE62I7EJ  zotero://select/library/items/BE62I7EJ  \n",
       "...                                          ...  \n",
       "VNIFGX4C  zotero://select/library/items/VNIFGX4C  \n",
       "9SXXLJT9  zotero://select/library/items/9SXXLJT9  \n",
       "YY8SFYV6  zotero://select/library/items/YY8SFYV6  \n",
       "GEJFKW4T  zotero://select/library/items/GEJFKW4T  \n",
       "LRZQG68T  zotero://select/library/items/LRZQG68T  \n",
       "\n",
       "[4943 rows x 4 columns]"
      ]
     },
     "execution_count": 49,
     "metadata": {},
     "output_type": "execute_result"
    }
   ],
   "source": [
    "df_citation = pd.DataFrame.from_dict(reference_dictionary, orient='index')\n",
    "# create a zotero link with the key zotero://select/library/items/YIYQNCBC\n",
    "df_citation['zotero_link'] = df_citation['key'].apply(lambda x: f\"zotero://select/library/items/{x}\")\n",
    "df_citation"
   ]
  },
  {
   "cell_type": "markdown",
   "id": "b143b599",
   "metadata": {},
   "source": [
    "# Read Obsidian Data"
   ]
  },
  {
   "cell_type": "code",
   "execution_count": 50,
   "id": "ec711d90",
   "metadata": {},
   "outputs": [
    {
     "name": "stdout",
     "output_type": "stream",
     "text": [
      "Found 6 markdown files in C:\\Users\\Admin\\Insync\\d.h.jaggi@gmail.com\\Google Drive\\projects\\4. Work\\Research\\3. Literature\n"
     ]
    }
   ],
   "source": [
    "# read all MD files in VAULT_PATH + REFERENCES\n",
    "md_files = [f for f in os.listdir(os.path.join(VAULT_PATH, REFERENCES)) if f.endswith('.md')]\n",
    "print(f\"Found {len(md_files)} markdown files in {os.path.join(VAULT_PATH, REFERENCES)}\")"
   ]
  },
  {
   "cell_type": "code",
   "execution_count": 51,
   "id": "886f3de0",
   "metadata": {},
   "outputs": [
    {
     "name": "stdout",
     "output_type": "stream",
     "text": [
      "Filtered to 1 markdown files that do not start with ---\n"
     ]
    }
   ],
   "source": [
    "# read all the markdown files and keep only the ones which do not start with ---\n",
    "md_files = [f for f in md_files if not open(os.path.join(VAULT_PATH, REFERENCES, f)).readline().startswith('---')]\n",
    "print(f\"Filtered to {len(md_files)} markdown files that do not start with ---\")"
   ]
  },
  {
   "cell_type": "code",
   "execution_count": 53,
   "id": "056ab51b",
   "metadata": {},
   "outputs": [
    {
     "name": "stdout",
     "output_type": "stream",
     "text": [
      "Processing file: @kileUsingIndustryClassification2009.md\n"
     ]
    }
   ],
   "source": [
    "# add a yaml header with \n",
    "# ---\n",
    "# title: \n",
    "# citekey:\n",
    "# zotero:\n",
    "# tags:\n",
    "#   - paper\n",
    "# ---\n",
    "for md_file in md_files:\n",
    "    print(f\"Processing file: {md_file}\")\n",
    "    file_path = os.path.join(VAULT_PATH, REFERENCES, md_file)\n",
    "    # only select the files which do not have a yaml header\n",
    "    if open(file_path, 'r').readline().startswith('---'):\n",
    "        print(f\"Skipping file {md_file} as it already has a YAML header.\")\n",
    "        continue\n",
    "    \n",
    "    # Extract the title from the filename (without .md)\n",
    "    note_title = md_file[:-3]\n",
    "    \n",
    "    # Find the corresponding citation key and zotero link\n",
    "    citekey = df_citation[df_citation['citekey'] == note_title]['citekey'].values\n",
    "    zotero_link = df_citation[df_citation['citekey'] == note_title]['zotero_link'].values\n",
    "    title = df_citation[df_citation['citekey'] == note_title]['title'].values\n",
    "    # title as string\n",
    "    title = title[0]\n",
    "    \n",
    "    if citekey.size > 0 and zotero_link.size > 0:\n",
    "        citekey = citekey[0]\n",
    "        zotero_link = zotero_link[0]\n",
    "        \n",
    "        # Create the YAML header\n",
    "        yaml_header = f'---\\ntitle: \"{title}\"\\ncitekey: \"{citekey}\"\\nzotero: {zotero_link}\\ntags:\\n  - paper\\n---\\n'\n",
    "        \n",
    "        # prepend the YAML header to the file\n",
    "        with open(file_path, 'r+') as f:\n",
    "            content = f.read()\n",
    "            f.seek(0, 0)\n",
    "            f.write(yaml_header + content)"
   ]
  },
  {
   "cell_type": "code",
   "execution_count": null,
   "id": "33a9a55e",
   "metadata": {},
   "outputs": [],
   "source": []
  }
 ],
 "metadata": {
  "kernelspec": {
   "display_name": "pyobsidian",
   "language": "python",
   "name": "python3"
  },
  "language_info": {
   "codemirror_mode": {
    "name": "ipython",
    "version": 3
   },
   "file_extension": ".py",
   "mimetype": "text/x-python",
   "name": "python",
   "nbconvert_exporter": "python",
   "pygments_lexer": "ipython3",
   "version": "3.12.10"
  }
 },
 "nbformat": 4,
 "nbformat_minor": 5
}
